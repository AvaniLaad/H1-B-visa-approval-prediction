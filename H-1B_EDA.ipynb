{
 "cells": [
  {
   "cell_type": "markdown",
   "id": "a9df309f",
   "metadata": {},
   "source": [
    "# **H-1B VISA APPROVAL PREDICTION**"
   ]
  },
  {
   "cell_type": "markdown",
   "id": "9ce8f87e",
   "metadata": {},
   "source": [
    "## TASK 1: Exploratory Data Analysis"
   ]
  },
  {
   "cell_type": "markdown",
   "id": "ec192082",
   "metadata": {},
   "source": [
    "###  By- Avani Laad ###"
   ]
  },
  {
   "cell_type": "code",
   "execution_count": 1,
   "id": "b86c8241",
   "metadata": {},
   "outputs": [],
   "source": [
    "import pandas as pd\n",
    "import numpy as np\n",
    "import matplotlib.pyplot as plt\n",
    "import seaborn as sns"
   ]
  },
  {
   "cell_type": "code",
   "execution_count": 2,
   "id": "f80c36d7",
   "metadata": {},
   "outputs": [
    {
     "name": "stderr",
     "output_type": "stream",
     "text": [
      "C:\\Users\\HP\\anaconda3\\lib\\site-packages\\IPython\\core\\interactiveshell.py:3165: DtypeWarning: Columns (0,1,2,3,4,5,6,7,8,9,10,11,13,14,19,20,21,22,23,24,25,26,27,28,29,31,32,33,34,35,36,37,38,39,40,41,42,43,45,46,47,48,49,50,51,52,53,54,55,57,58,59,61,64,66,67,68,69,70,71,72,73,76,78,79,80,82,85,87,88,89,90,91,92,93,94,97,98,99,100,101,103,106,108,109,110,111,112,113,114,115,121,122,124,127,129,130,131,132,133,134,135,136,142,143,145,148,150,151,152,153,154,155,156,157,160,162,163,164,166,169,171,172,173,174,175,176,177,178,184,185,187,190,192,193,194,195,196,197,198,199,205,206,208,211,213,214,215,216,217,218,219,220,223,225,226,227,229,232,234,235,236,237,238,239,240,244,246,247,248,250,253,254,255,256,257,258,259) have mixed types.Specify dtype option on import or set low_memory=False.\n",
      "  has_raised = await self.run_ast_nodes(code_ast.body, cell_name,\n"
     ]
    },
    {
     "data": {
      "text/html": [
       "<div>\n",
       "<style scoped>\n",
       "    .dataframe tbody tr th:only-of-type {\n",
       "        vertical-align: middle;\n",
       "    }\n",
       "\n",
       "    .dataframe tbody tr th {\n",
       "        vertical-align: top;\n",
       "    }\n",
       "\n",
       "    .dataframe thead th {\n",
       "        text-align: right;\n",
       "    }\n",
       "</style>\n",
       "<table border=\"1\" class=\"dataframe\">\n",
       "  <thead>\n",
       "    <tr style=\"text-align: right;\">\n",
       "      <th></th>\n",
       "      <th>CASE_NUMBER</th>\n",
       "      <th>CASE_STATUS</th>\n",
       "      <th>CASE_SUBMITTED</th>\n",
       "      <th>DECISION_DATE</th>\n",
       "      <th>ORIGINAL_CERT_DATE</th>\n",
       "      <th>VISA_CLASS</th>\n",
       "      <th>JOB_TITLE</th>\n",
       "      <th>SOC_CODE</th>\n",
       "      <th>SOC_TITLE</th>\n",
       "      <th>FULL_TIME_POSITION</th>\n",
       "      <th>...</th>\n",
       "      <th>PW_OTHER_SOURCE_10</th>\n",
       "      <th>PW_NON-OES_YEAR_10</th>\n",
       "      <th>PW_SURVEY_PUBLISHER_10</th>\n",
       "      <th>PW_SURVEY_NAME_10</th>\n",
       "      <th>H-1B_DEPENDENT</th>\n",
       "      <th>WILLFUL_VIOLATOR</th>\n",
       "      <th>SUPPORT_H1B</th>\n",
       "      <th>STATUTORY_BASIS</th>\n",
       "      <th>MASTERS_EXEMPTION</th>\n",
       "      <th>PUBLIC_DISCLOSURE</th>\n",
       "    </tr>\n",
       "  </thead>\n",
       "  <tbody>\n",
       "    <tr>\n",
       "      <th>0</th>\n",
       "      <td>I-200-16092-327771</td>\n",
       "      <td>WITHDRAWN</td>\n",
       "      <td>08-04-2016</td>\n",
       "      <td>30-04-2019</td>\n",
       "      <td>NaN</td>\n",
       "      <td>H-1B</td>\n",
       "      <td>ASSOCIATE CREATIVE DIRECTOR</td>\n",
       "      <td>11-2011</td>\n",
       "      <td>ADVERTISING AND PROMOTIONS MANAGERS</td>\n",
       "      <td>Y</td>\n",
       "      <td>...</td>\n",
       "      <td>NaN</td>\n",
       "      <td>NaN</td>\n",
       "      <td>NaN</td>\n",
       "      <td>NaN</td>\n",
       "      <td>N</td>\n",
       "      <td>N</td>\n",
       "      <td>NaN</td>\n",
       "      <td>NaN</td>\n",
       "      <td>NaN</td>\n",
       "      <td>NaN</td>\n",
       "    </tr>\n",
       "    <tr>\n",
       "      <th>1</th>\n",
       "      <td>I-203-17188-450729</td>\n",
       "      <td>WITHDRAWN</td>\n",
       "      <td>14-07-2017</td>\n",
       "      <td>13-05-2019</td>\n",
       "      <td>NaN</td>\n",
       "      <td>E-3 Australian</td>\n",
       "      <td>ACCOUNT SUPERVISOR (MOTHER)</td>\n",
       "      <td>11-2011</td>\n",
       "      <td>ADVERTISING AND PROMOTIONS MANAGERS</td>\n",
       "      <td>Y</td>\n",
       "      <td>...</td>\n",
       "      <td>NaN</td>\n",
       "      <td>NaN</td>\n",
       "      <td>NaN</td>\n",
       "      <td>NaN</td>\n",
       "      <td>NaN</td>\n",
       "      <td>NaN</td>\n",
       "      <td>NaN</td>\n",
       "      <td>NaN</td>\n",
       "      <td>NaN</td>\n",
       "      <td>NaN</td>\n",
       "    </tr>\n",
       "    <tr>\n",
       "      <th>2</th>\n",
       "      <td>I-203-17229-572307</td>\n",
       "      <td>WITHDRAWN</td>\n",
       "      <td>23-08-2017</td>\n",
       "      <td>30-04-2019</td>\n",
       "      <td>NaN</td>\n",
       "      <td>E-3 Australian</td>\n",
       "      <td>EXECUTIVE CREATIVE DIRECTOR</td>\n",
       "      <td>11-2011</td>\n",
       "      <td>ADVERTISING AND PROMOTIONS MANAGERS</td>\n",
       "      <td>Y</td>\n",
       "      <td>...</td>\n",
       "      <td>NaN</td>\n",
       "      <td>NaN</td>\n",
       "      <td>NaN</td>\n",
       "      <td>NaN</td>\n",
       "      <td>NaN</td>\n",
       "      <td>NaN</td>\n",
       "      <td>NaN</td>\n",
       "      <td>NaN</td>\n",
       "      <td>NaN</td>\n",
       "      <td>NaN</td>\n",
       "    </tr>\n",
       "    <tr>\n",
       "      <th>3</th>\n",
       "      <td>I-203-17356-299648</td>\n",
       "      <td>WITHDRAWN</td>\n",
       "      <td>22-12-2017</td>\n",
       "      <td>20-08-2019</td>\n",
       "      <td>NaN</td>\n",
       "      <td>E-3 Australian</td>\n",
       "      <td>PROJECT MANAGEMENT LEAD</td>\n",
       "      <td>11-2011</td>\n",
       "      <td>ADVERTISING AND PROMOTIONS MANAGERS</td>\n",
       "      <td>Y</td>\n",
       "      <td>...</td>\n",
       "      <td>NaN</td>\n",
       "      <td>NaN</td>\n",
       "      <td>NaN</td>\n",
       "      <td>NaN</td>\n",
       "      <td>NaN</td>\n",
       "      <td>NaN</td>\n",
       "      <td>NaN</td>\n",
       "      <td>NaN</td>\n",
       "      <td>NaN</td>\n",
       "      <td>NaN</td>\n",
       "    </tr>\n",
       "    <tr>\n",
       "      <th>4</th>\n",
       "      <td>I-203-18008-577576</td>\n",
       "      <td>WITHDRAWN</td>\n",
       "      <td>10-01-2018</td>\n",
       "      <td>15-04-2019</td>\n",
       "      <td>NaN</td>\n",
       "      <td>E-3 Australian</td>\n",
       "      <td>CREATIVE DIRECTOR, UX</td>\n",
       "      <td>11-2011</td>\n",
       "      <td>ADVERTISING AND PROMOTIONS MANAGERS</td>\n",
       "      <td>Y</td>\n",
       "      <td>...</td>\n",
       "      <td>NaN</td>\n",
       "      <td>NaN</td>\n",
       "      <td>NaN</td>\n",
       "      <td>NaN</td>\n",
       "      <td>NaN</td>\n",
       "      <td>NaN</td>\n",
       "      <td>NaN</td>\n",
       "      <td>NaN</td>\n",
       "      <td>NaN</td>\n",
       "      <td>NaN</td>\n",
       "    </tr>\n",
       "  </tbody>\n",
       "</table>\n",
       "<p>5 rows × 260 columns</p>\n",
       "</div>"
      ],
      "text/plain": [
       "          CASE_NUMBER CASE_STATUS CASE_SUBMITTED DECISION_DATE  \\\n",
       "0  I-200-16092-327771   WITHDRAWN     08-04-2016    30-04-2019   \n",
       "1  I-203-17188-450729   WITHDRAWN     14-07-2017    13-05-2019   \n",
       "2  I-203-17229-572307   WITHDRAWN     23-08-2017    30-04-2019   \n",
       "3  I-203-17356-299648   WITHDRAWN     22-12-2017    20-08-2019   \n",
       "4  I-203-18008-577576   WITHDRAWN     10-01-2018    15-04-2019   \n",
       "\n",
       "  ORIGINAL_CERT_DATE      VISA_CLASS                    JOB_TITLE SOC_CODE  \\\n",
       "0                NaN            H-1B  ASSOCIATE CREATIVE DIRECTOR  11-2011   \n",
       "1                NaN  E-3 Australian  ACCOUNT SUPERVISOR (MOTHER)  11-2011   \n",
       "2                NaN  E-3 Australian  EXECUTIVE CREATIVE DIRECTOR  11-2011   \n",
       "3                NaN  E-3 Australian      PROJECT MANAGEMENT LEAD  11-2011   \n",
       "4                NaN  E-3 Australian        CREATIVE DIRECTOR, UX  11-2011   \n",
       "\n",
       "                             SOC_TITLE FULL_TIME_POSITION  ...  \\\n",
       "0  ADVERTISING AND PROMOTIONS MANAGERS                  Y  ...   \n",
       "1  ADVERTISING AND PROMOTIONS MANAGERS                  Y  ...   \n",
       "2  ADVERTISING AND PROMOTIONS MANAGERS                  Y  ...   \n",
       "3  ADVERTISING AND PROMOTIONS MANAGERS                  Y  ...   \n",
       "4  ADVERTISING AND PROMOTIONS MANAGERS                  Y  ...   \n",
       "\n",
       "  PW_OTHER_SOURCE_10 PW_NON-OES_YEAR_10  PW_SURVEY_PUBLISHER_10  \\\n",
       "0                NaN                NaN                     NaN   \n",
       "1                NaN                NaN                     NaN   \n",
       "2                NaN                NaN                     NaN   \n",
       "3                NaN                NaN                     NaN   \n",
       "4                NaN                NaN                     NaN   \n",
       "\n",
       "  PW_SURVEY_NAME_10 H-1B_DEPENDENT  WILLFUL_VIOLATOR  SUPPORT_H1B  \\\n",
       "0               NaN              N                 N          NaN   \n",
       "1               NaN            NaN               NaN          NaN   \n",
       "2               NaN            NaN               NaN          NaN   \n",
       "3               NaN            NaN               NaN          NaN   \n",
       "4               NaN            NaN               NaN          NaN   \n",
       "\n",
       "   STATUTORY_BASIS  MASTERS_EXEMPTION PUBLIC_DISCLOSURE  \n",
       "0              NaN                NaN               NaN  \n",
       "1              NaN                NaN               NaN  \n",
       "2              NaN                NaN               NaN  \n",
       "3              NaN                NaN               NaN  \n",
       "4              NaN                NaN               NaN  \n",
       "\n",
       "[5 rows x 260 columns]"
      ]
     },
     "execution_count": 2,
     "metadata": {},
     "output_type": "execute_result"
    }
   ],
   "source": [
    "dataset=pd.read_csv(\"C:/Users/HP/Desktop/.ipynb_checkpoints/H1B/H-1B_Disclosure_Data_FY2019.csv\")\n",
    "dataset.head()"
   ]
  },
  {
   "cell_type": "code",
   "execution_count": 3,
   "id": "644ed53d",
   "metadata": {},
   "outputs": [
    {
     "data": {
      "text/plain": [
       "(1048547, 260)"
      ]
     },
     "execution_count": 3,
     "metadata": {},
     "output_type": "execute_result"
    }
   ],
   "source": [
    "dataset.shape"
   ]
  },
  {
   "cell_type": "code",
   "execution_count": 4,
   "id": "9d556c1d",
   "metadata": {},
   "outputs": [
    {
     "data": {
      "text/plain": [
       "CASE_NUMBER            383931\n",
       "CASE_STATUS            383931\n",
       "CASE_SUBMITTED         383931\n",
       "DECISION_DATE          383931\n",
       "ORIGINAL_CERT_DATE    1001601\n",
       "                       ...   \n",
       "WILLFUL_VIOLATOR       399010\n",
       "SUPPORT_H1B            810248\n",
       "STATUTORY_BASIS        840557\n",
       "MASTERS_EXEMPTION     1047254\n",
       "PUBLIC_DISCLOSURE      417188\n",
       "Length: 260, dtype: int64"
      ]
     },
     "execution_count": 4,
     "metadata": {},
     "output_type": "execute_result"
    }
   ],
   "source": [
    "#calculating sum of null values\n",
    "dataset.isnull().sum()"
   ]
  },
  {
   "cell_type": "code",
   "execution_count": 5,
   "id": "1b201af7",
   "metadata": {},
   "outputs": [],
   "source": [
    "#dropping columns with more than 90% null values\n",
    "perc = 90\n",
    "min_count =  int(((100-perc)/100)*dataset.shape[0] + 1)\n",
    "dataset = dataset.dropna( axis=1, thresh=min_count)"
   ]
  },
  {
   "cell_type": "code",
   "execution_count": 6,
   "id": "e49072e2",
   "metadata": {},
   "outputs": [
    {
     "data": {
      "text/plain": [
       "(1048547, 59)"
      ]
     },
     "execution_count": 6,
     "metadata": {},
     "output_type": "execute_result"
    }
   ],
   "source": [
    "dataset.shape"
   ]
  },
  {
   "cell_type": "code",
   "execution_count": 7,
   "id": "7deedde7",
   "metadata": {},
   "outputs": [
    {
     "data": {
      "text/plain": [
       "(664617, 59)"
      ]
     },
     "execution_count": 7,
     "metadata": {},
     "output_type": "execute_result"
    }
   ],
   "source": [
    "#dropping duplicate values\n",
    "dataset.drop_duplicates(inplace=True)\n",
    "dataset.shape"
   ]
  },
  {
   "cell_type": "code",
   "execution_count": 8,
   "id": "52a41947",
   "metadata": {},
   "outputs": [
    {
     "data": {
      "text/plain": [
       "CASE_NUMBER                                   1\n",
       "CASE_STATUS                                   1\n",
       "CASE_SUBMITTED                                1\n",
       "DECISION_DATE                                 1\n",
       "VISA_CLASS                                    1\n",
       "JOB_TITLE                                     2\n",
       "SOC_CODE                                      5\n",
       "SOC_TITLE                                     5\n",
       "FULL_TIME_POSITION                            1\n",
       "PERIOD_OF_EMPLOYMENT_START_DATE               1\n",
       "PERIOD_OF_EMPLOYMENT_END_DATE                 1\n",
       "TOTAL_WORKER_POSITIONS                        3\n",
       "NEW_EMPLOYMENT                                1\n",
       "CONTINUED_EMPLOYMENT                          1\n",
       "CHANGE_PREVIOUS_EMPLOYMENT                    1\n",
       "NEW_CONCURRENT_EMPLOYMENT                     2\n",
       "CHANGE_EMPLOYER                               1\n",
       "AMENDED_PETITION                              1\n",
       "EMPLOYER_NAME                                11\n",
       "EMPLOYER_ADDRESS1                             4\n",
       "EMPLOYER_ADDRESS2                        354030\n",
       "EMPLOYER_CITY                                 6\n",
       "EMPLOYER_STATE                               42\n",
       "EMPLOYER_POSTAL_CODE                         11\n",
       "EMPLOYER_COUNTRY                          28145\n",
       "EMPLOYER_PHONE                            28145\n",
       "NAICS_CODE                                    3\n",
       "AGENT_REPRESENTING_EMPLOYER               28151\n",
       "AGENT_ATTORNEY_LAW_FIRM_BUSINESS_NAME    217312\n",
       "AGENT_ATTORNEY_ADDRESS1                  220576\n",
       "AGENT_ATTORNEY_ADDRESS2                  352773\n",
       "AGENT_ATTORNEY_CITY                      217165\n",
       "AGENT_ATTORNEY_STATE                     238063\n",
       "AGENT_ATTORNEY_POSTAL_CODE               220576\n",
       "AGENT_ATTORNEY_COUNTRY                   220575\n",
       "AGENT_ATTORNEY_PHONE                     220574\n",
       "STATE_OF_HIGHEST_COURT                   221496\n",
       "NAME_OF_HIGHEST_STATE_COURT              221448\n",
       "WORKSITE_WORKERS_1                        83717\n",
       "SECONDARY_ENTITY_1                        83682\n",
       "SECONDARY_ENTITY_BUSINESS_NAME_1         423037\n",
       "WORKSITE_ADDRESS1_1                       33327\n",
       "WORKSITE_ADDRESS2_1                      510899\n",
       "WORKSITE_CITY_1                              94\n",
       "WORKSITE_COUNTY_1                           753\n",
       "WORKSITE_STATE_1                             19\n",
       "WORKSITE_POSTAL_CODE_1                      103\n",
       "WAGE_RATE_OF_PAY_FROM_1                       9\n",
       "WAGE_RATE_OF_PAY_TO_1                    331762\n",
       "WAGE_UNIT_OF_PAY_1                            9\n",
       "PREVAILING_WAGE_1                         33248\n",
       "PW_UNIT_OF_PAY_1                          33248\n",
       "PW_WAGE_LEVEL_1                           64048\n",
       "PW_NON-OES_YEAR_1                        110571\n",
       "H-1B_DEPENDENT                            15075\n",
       "WILLFUL_VIOLATOR                          15080\n",
       "SUPPORT_H1B                              426318\n",
       "STATUTORY_BASIS                          456627\n",
       "PUBLIC_DISCLOSURE                         33258\n",
       "dtype: int64"
      ]
     },
     "execution_count": 8,
     "metadata": {},
     "output_type": "execute_result"
    }
   ],
   "source": [
    "dataset.isnull().sum()"
   ]
  },
  {
   "cell_type": "code",
   "execution_count": 9,
   "id": "76fb9502",
   "metadata": {},
   "outputs": [],
   "source": [
    "#filling null values of CASE_STATUS with 'certified' i.e with mode\n",
    "dataset.CASE_STATUS=dataset.CASE_STATUS.fillna(\"CERTIFIED\")"
   ]
  },
  {
   "cell_type": "code",
   "execution_count": 10,
   "id": "c7c7849f",
   "metadata": {},
   "outputs": [
    {
     "data": {
      "text/html": [
       "<div>\n",
       "<style scoped>\n",
       "    .dataframe tbody tr th:only-of-type {\n",
       "        vertical-align: middle;\n",
       "    }\n",
       "\n",
       "    .dataframe tbody tr th {\n",
       "        vertical-align: top;\n",
       "    }\n",
       "\n",
       "    .dataframe thead th {\n",
       "        text-align: right;\n",
       "    }\n",
       "</style>\n",
       "<table border=\"1\" class=\"dataframe\">\n",
       "  <thead>\n",
       "    <tr style=\"text-align: right;\">\n",
       "      <th></th>\n",
       "      <th>TOTAL_WORKER_POSITIONS</th>\n",
       "      <th>CHANGE_PREVIOUS_EMPLOYMENT</th>\n",
       "      <th>NEW_CONCURRENT_EMPLOYMENT</th>\n",
       "      <th>CHANGE_EMPLOYER</th>\n",
       "      <th>AMENDED_PETITION</th>\n",
       "      <th>NAICS_CODE</th>\n",
       "      <th>WORKSITE_WORKERS_1</th>\n",
       "      <th>PREVAILING_WAGE_1</th>\n",
       "      <th>PW_NON-OES_YEAR_1</th>\n",
       "    </tr>\n",
       "  </thead>\n",
       "  <tbody>\n",
       "    <tr>\n",
       "      <th>TOTAL_WORKER_POSITIONS</th>\n",
       "      <td>1.000000</td>\n",
       "      <td>0.501824</td>\n",
       "      <td>0.374866</td>\n",
       "      <td>0.570497</td>\n",
       "      <td>0.597364</td>\n",
       "      <td>-0.102237</td>\n",
       "      <td>0.008019</td>\n",
       "      <td>0.041159</td>\n",
       "      <td>-0.000206</td>\n",
       "    </tr>\n",
       "    <tr>\n",
       "      <th>CHANGE_PREVIOUS_EMPLOYMENT</th>\n",
       "      <td>0.501824</td>\n",
       "      <td>1.000000</td>\n",
       "      <td>0.298125</td>\n",
       "      <td>0.409356</td>\n",
       "      <td>0.512133</td>\n",
       "      <td>-0.029182</td>\n",
       "      <td>0.003372</td>\n",
       "      <td>0.035356</td>\n",
       "      <td>-0.000163</td>\n",
       "    </tr>\n",
       "    <tr>\n",
       "      <th>NEW_CONCURRENT_EMPLOYMENT</th>\n",
       "      <td>0.374866</td>\n",
       "      <td>0.298125</td>\n",
       "      <td>1.000000</td>\n",
       "      <td>0.235185</td>\n",
       "      <td>0.292767</td>\n",
       "      <td>-0.037142</td>\n",
       "      <td>0.001543</td>\n",
       "      <td>-0.046454</td>\n",
       "      <td>-0.000095</td>\n",
       "    </tr>\n",
       "    <tr>\n",
       "      <th>CHANGE_EMPLOYER</th>\n",
       "      <td>0.570497</td>\n",
       "      <td>0.409356</td>\n",
       "      <td>0.235185</td>\n",
       "      <td>1.000000</td>\n",
       "      <td>0.520233</td>\n",
       "      <td>-0.093679</td>\n",
       "      <td>0.003963</td>\n",
       "      <td>0.094315</td>\n",
       "      <td>0.000913</td>\n",
       "    </tr>\n",
       "    <tr>\n",
       "      <th>AMENDED_PETITION</th>\n",
       "      <td>0.597364</td>\n",
       "      <td>0.512133</td>\n",
       "      <td>0.292767</td>\n",
       "      <td>0.520233</td>\n",
       "      <td>1.000000</td>\n",
       "      <td>-0.112970</td>\n",
       "      <td>0.003977</td>\n",
       "      <td>0.046553</td>\n",
       "      <td>-0.000375</td>\n",
       "    </tr>\n",
       "    <tr>\n",
       "      <th>NAICS_CODE</th>\n",
       "      <td>-0.102237</td>\n",
       "      <td>-0.029182</td>\n",
       "      <td>-0.037142</td>\n",
       "      <td>-0.093679</td>\n",
       "      <td>-0.112970</td>\n",
       "      <td>1.000000</td>\n",
       "      <td>-0.000622</td>\n",
       "      <td>-0.032541</td>\n",
       "      <td>-0.002810</td>\n",
       "    </tr>\n",
       "    <tr>\n",
       "      <th>WORKSITE_WORKERS_1</th>\n",
       "      <td>0.008019</td>\n",
       "      <td>0.003372</td>\n",
       "      <td>0.001543</td>\n",
       "      <td>0.003963</td>\n",
       "      <td>0.003977</td>\n",
       "      <td>-0.000622</td>\n",
       "      <td>1.000000</td>\n",
       "      <td>-0.000478</td>\n",
       "      <td>-0.000012</td>\n",
       "    </tr>\n",
       "    <tr>\n",
       "      <th>PREVAILING_WAGE_1</th>\n",
       "      <td>0.041159</td>\n",
       "      <td>0.035356</td>\n",
       "      <td>-0.046454</td>\n",
       "      <td>0.094315</td>\n",
       "      <td>0.046553</td>\n",
       "      <td>-0.032541</td>\n",
       "      <td>-0.000478</td>\n",
       "      <td>1.000000</td>\n",
       "      <td>0.000135</td>\n",
       "    </tr>\n",
       "    <tr>\n",
       "      <th>PW_NON-OES_YEAR_1</th>\n",
       "      <td>-0.000206</td>\n",
       "      <td>-0.000163</td>\n",
       "      <td>-0.000095</td>\n",
       "      <td>0.000913</td>\n",
       "      <td>-0.000375</td>\n",
       "      <td>-0.002810</td>\n",
       "      <td>-0.000012</td>\n",
       "      <td>0.000135</td>\n",
       "      <td>1.000000</td>\n",
       "    </tr>\n",
       "  </tbody>\n",
       "</table>\n",
       "</div>"
      ],
      "text/plain": [
       "                            TOTAL_WORKER_POSITIONS  \\\n",
       "TOTAL_WORKER_POSITIONS                    1.000000   \n",
       "CHANGE_PREVIOUS_EMPLOYMENT                0.501824   \n",
       "NEW_CONCURRENT_EMPLOYMENT                 0.374866   \n",
       "CHANGE_EMPLOYER                           0.570497   \n",
       "AMENDED_PETITION                          0.597364   \n",
       "NAICS_CODE                               -0.102237   \n",
       "WORKSITE_WORKERS_1                        0.008019   \n",
       "PREVAILING_WAGE_1                         0.041159   \n",
       "PW_NON-OES_YEAR_1                        -0.000206   \n",
       "\n",
       "                            CHANGE_PREVIOUS_EMPLOYMENT  \\\n",
       "TOTAL_WORKER_POSITIONS                        0.501824   \n",
       "CHANGE_PREVIOUS_EMPLOYMENT                    1.000000   \n",
       "NEW_CONCURRENT_EMPLOYMENT                     0.298125   \n",
       "CHANGE_EMPLOYER                               0.409356   \n",
       "AMENDED_PETITION                              0.512133   \n",
       "NAICS_CODE                                   -0.029182   \n",
       "WORKSITE_WORKERS_1                            0.003372   \n",
       "PREVAILING_WAGE_1                             0.035356   \n",
       "PW_NON-OES_YEAR_1                            -0.000163   \n",
       "\n",
       "                            NEW_CONCURRENT_EMPLOYMENT  CHANGE_EMPLOYER  \\\n",
       "TOTAL_WORKER_POSITIONS                       0.374866         0.570497   \n",
       "CHANGE_PREVIOUS_EMPLOYMENT                   0.298125         0.409356   \n",
       "NEW_CONCURRENT_EMPLOYMENT                    1.000000         0.235185   \n",
       "CHANGE_EMPLOYER                              0.235185         1.000000   \n",
       "AMENDED_PETITION                             0.292767         0.520233   \n",
       "NAICS_CODE                                  -0.037142        -0.093679   \n",
       "WORKSITE_WORKERS_1                           0.001543         0.003963   \n",
       "PREVAILING_WAGE_1                           -0.046454         0.094315   \n",
       "PW_NON-OES_YEAR_1                           -0.000095         0.000913   \n",
       "\n",
       "                            AMENDED_PETITION  NAICS_CODE  WORKSITE_WORKERS_1  \\\n",
       "TOTAL_WORKER_POSITIONS              0.597364   -0.102237            0.008019   \n",
       "CHANGE_PREVIOUS_EMPLOYMENT          0.512133   -0.029182            0.003372   \n",
       "NEW_CONCURRENT_EMPLOYMENT           0.292767   -0.037142            0.001543   \n",
       "CHANGE_EMPLOYER                     0.520233   -0.093679            0.003963   \n",
       "AMENDED_PETITION                    1.000000   -0.112970            0.003977   \n",
       "NAICS_CODE                         -0.112970    1.000000           -0.000622   \n",
       "WORKSITE_WORKERS_1                  0.003977   -0.000622            1.000000   \n",
       "PREVAILING_WAGE_1                   0.046553   -0.032541           -0.000478   \n",
       "PW_NON-OES_YEAR_1                  -0.000375   -0.002810           -0.000012   \n",
       "\n",
       "                            PREVAILING_WAGE_1  PW_NON-OES_YEAR_1  \n",
       "TOTAL_WORKER_POSITIONS               0.041159          -0.000206  \n",
       "CHANGE_PREVIOUS_EMPLOYMENT           0.035356          -0.000163  \n",
       "NEW_CONCURRENT_EMPLOYMENT           -0.046454          -0.000095  \n",
       "CHANGE_EMPLOYER                      0.094315           0.000913  \n",
       "AMENDED_PETITION                     0.046553          -0.000375  \n",
       "NAICS_CODE                          -0.032541          -0.002810  \n",
       "WORKSITE_WORKERS_1                  -0.000478          -0.000012  \n",
       "PREVAILING_WAGE_1                    1.000000           0.000135  \n",
       "PW_NON-OES_YEAR_1                    0.000135           1.000000  "
      ]
     },
     "execution_count": 10,
     "metadata": {},
     "output_type": "execute_result"
    }
   ],
   "source": [
    "#calculating correlation\n",
    "dataset.corr()"
   ]
  },
  {
   "cell_type": "code",
   "execution_count": 11,
   "id": "44ed2613",
   "metadata": {},
   "outputs": [
    {
     "data": {
      "text/plain": [
       "<AxesSubplot:>"
      ]
     },
     "execution_count": 11,
     "metadata": {},
     "output_type": "execute_result"
    },
    {
     "data": {
      "image/png": "[encoded data removed]",
      "text/plain": [
       "<Figure size 432x288 with 2 Axes>"
      ]
     },
     "metadata": {
      "needs_background": "light"
     },
     "output_type": "display_data"
    }
   ],
   "source": [
    "corr=dataset.corr()\n",
    "sns.heatmap(corr, annot=True)"
   ]
  },
  {
   "cell_type": "code",
   "execution_count": 12,
   "id": "078ba04d",
   "metadata": {},
   "outputs": [
    {
     "name": "stdout",
     "output_type": "stream",
     "text": [
      "['CASE_NUMBER' 'CASE_STATUS' 'CASE_SUBMITTED' 'DECISION_DATE' 'VISA_CLASS'\n",
      " 'JOB_TITLE' 'SOC_CODE' 'SOC_TITLE' 'FULL_TIME_POSITION'\n",
      " 'PERIOD_OF_EMPLOYMENT_START_DATE' 'PERIOD_OF_EMPLOYMENT_END_DATE'\n",
      " 'TOTAL_WORKER_POSITIONS' 'NEW_EMPLOYMENT' 'CONTINUED_EMPLOYMENT'\n",
      " 'CHANGE_PREVIOUS_EMPLOYMENT' 'NEW_CONCURRENT_EMPLOYMENT'\n",
      " 'CHANGE_EMPLOYER' 'AMENDED_PETITION' 'EMPLOYER_NAME' 'EMPLOYER_ADDRESS1'\n",
      " 'EMPLOYER_ADDRESS2' 'EMPLOYER_CITY' 'EMPLOYER_STATE'\n",
      " 'EMPLOYER_POSTAL_CODE' 'EMPLOYER_COUNTRY' 'EMPLOYER_PHONE' 'NAICS_CODE'\n",
      " 'AGENT_REPRESENTING_EMPLOYER' 'AGENT_ATTORNEY_LAW_FIRM_BUSINESS_NAME'\n",
      " 'AGENT_ATTORNEY_ADDRESS1' 'AGENT_ATTORNEY_ADDRESS2' 'AGENT_ATTORNEY_CITY'\n",
      " 'AGENT_ATTORNEY_STATE' 'AGENT_ATTORNEY_POSTAL_CODE'\n",
      " 'AGENT_ATTORNEY_COUNTRY' 'AGENT_ATTORNEY_PHONE' 'STATE_OF_HIGHEST_COURT'\n",
      " 'NAME_OF_HIGHEST_STATE_COURT' 'WORKSITE_WORKERS_1' 'SECONDARY_ENTITY_1'\n",
      " 'SECONDARY_ENTITY_BUSINESS_NAME_1' 'WORKSITE_ADDRESS1_1'\n",
      " 'WORKSITE_ADDRESS2_1' 'WORKSITE_CITY_1' 'WORKSITE_COUNTY_1'\n",
      " 'WORKSITE_STATE_1' 'WORKSITE_POSTAL_CODE_1' 'WAGE_RATE_OF_PAY_FROM_1'\n",
      " 'WAGE_RATE_OF_PAY_TO_1' 'WAGE_UNIT_OF_PAY_1' 'PREVAILING_WAGE_1'\n",
      " 'PW_UNIT_OF_PAY_1' 'PW_WAGE_LEVEL_1' 'PW_NON-OES_YEAR_1' 'H-1B_DEPENDENT'\n",
      " 'WILLFUL_VIOLATOR' 'SUPPORT_H1B' 'STATUTORY_BASIS' 'PUBLIC_DISCLOSURE']\n"
     ]
    }
   ],
   "source": [
    "#printing all columns of dataset\n",
    "print(dataset.columns.values)"
   ]
  },
  {
   "cell_type": "markdown",
   "id": "b245c196",
   "metadata": {},
   "source": [
    "### Extracting important columns from this dataset"
   ]
  },
  {
   "cell_type": "code",
   "execution_count": 13,
   "id": "1c6eecd6",
   "metadata": {
    "scrolled": true
   },
   "outputs": [
    {
     "data": {
      "text/html": [
       "<div>\n",
       "<style scoped>\n",
       "    .dataframe tbody tr th:only-of-type {\n",
       "        vertical-align: middle;\n",
       "    }\n",
       "\n",
       "    .dataframe tbody tr th {\n",
       "        vertical-align: top;\n",
       "    }\n",
       "\n",
       "    .dataframe thead th {\n",
       "        text-align: right;\n",
       "    }\n",
       "</style>\n",
       "<table border=\"1\" class=\"dataframe\">\n",
       "  <thead>\n",
       "    <tr style=\"text-align: right;\">\n",
       "      <th></th>\n",
       "      <th>CASE_STATUS</th>\n",
       "      <th>JOB_TITLE</th>\n",
       "      <th>SOC_CODE</th>\n",
       "      <th>SOC_TITLE</th>\n",
       "      <th>VISA_CLASS</th>\n",
       "      <th>EMPLOYER_NAME</th>\n",
       "      <th>SECONDARY_ENTITY_1</th>\n",
       "      <th>AGENT_REPRESENTING_EMPLOYER</th>\n",
       "      <th>NAICS_CODE</th>\n",
       "      <th>CONTINUED_EMPLOYMENT</th>\n",
       "      <th>CHANGE_PREVIOUS_EMPLOYMENT</th>\n",
       "      <th>NEW_CONCURRENT_EMPLOYMENT</th>\n",
       "      <th>CHANGE_EMPLOYER</th>\n",
       "      <th>AMENDED_PETITION</th>\n",
       "      <th>H-1B_DEPENDENT</th>\n",
       "      <th>SUPPORT_H1B</th>\n",
       "      <th>WILLFUL_VIOLATOR</th>\n",
       "      <th>WAGE_RATE_OF_PAY_FROM_1</th>\n",
       "      <th>WAGE_UNIT_OF_PAY_1</th>\n",
       "      <th>TOTAL_WORKER_POSITIONS</th>\n",
       "    </tr>\n",
       "  </thead>\n",
       "  <tbody>\n",
       "    <tr>\n",
       "      <th>0</th>\n",
       "      <td>WITHDRAWN</td>\n",
       "      <td>ASSOCIATE CREATIVE DIRECTOR</td>\n",
       "      <td>11-2011</td>\n",
       "      <td>ADVERTISING AND PROMOTIONS MANAGERS</td>\n",
       "      <td>H-1B</td>\n",
       "      <td>R/GA MEDIA GROUP, INC.</td>\n",
       "      <td>NaN</td>\n",
       "      <td>NaN</td>\n",
       "      <td>541810.0</td>\n",
       "      <td>1</td>\n",
       "      <td>0.0</td>\n",
       "      <td>0.0</td>\n",
       "      <td>0.0</td>\n",
       "      <td>0.0</td>\n",
       "      <td>N</td>\n",
       "      <td>NaN</td>\n",
       "      <td>N</td>\n",
       "      <td>$1,79,000.00</td>\n",
       "      <td>Year</td>\n",
       "      <td>1.0</td>\n",
       "    </tr>\n",
       "    <tr>\n",
       "      <th>1</th>\n",
       "      <td>WITHDRAWN</td>\n",
       "      <td>ACCOUNT SUPERVISOR (MOTHER)</td>\n",
       "      <td>11-2011</td>\n",
       "      <td>ADVERTISING AND PROMOTIONS MANAGERS</td>\n",
       "      <td>E-3 Australian</td>\n",
       "      <td>MOTHER INDUSTRIES LLC</td>\n",
       "      <td>NaN</td>\n",
       "      <td>NaN</td>\n",
       "      <td>541810.0</td>\n",
       "      <td>1</td>\n",
       "      <td>0.0</td>\n",
       "      <td>0.0</td>\n",
       "      <td>0.0</td>\n",
       "      <td>0.0</td>\n",
       "      <td>NaN</td>\n",
       "      <td>NaN</td>\n",
       "      <td>NaN</td>\n",
       "      <td>$1,10,000.00</td>\n",
       "      <td>Year</td>\n",
       "      <td>1.0</td>\n",
       "    </tr>\n",
       "    <tr>\n",
       "      <th>2</th>\n",
       "      <td>WITHDRAWN</td>\n",
       "      <td>EXECUTIVE CREATIVE DIRECTOR</td>\n",
       "      <td>11-2011</td>\n",
       "      <td>ADVERTISING AND PROMOTIONS MANAGERS</td>\n",
       "      <td>E-3 Australian</td>\n",
       "      <td>WE ARE UNLIMITED, INC.</td>\n",
       "      <td>NaN</td>\n",
       "      <td>NaN</td>\n",
       "      <td>541810.0</td>\n",
       "      <td>0</td>\n",
       "      <td>1.0</td>\n",
       "      <td>0.0</td>\n",
       "      <td>0.0</td>\n",
       "      <td>0.0</td>\n",
       "      <td>NaN</td>\n",
       "      <td>NaN</td>\n",
       "      <td>NaN</td>\n",
       "      <td>$2,75,000.00</td>\n",
       "      <td>Year</td>\n",
       "      <td>1.0</td>\n",
       "    </tr>\n",
       "    <tr>\n",
       "      <th>3</th>\n",
       "      <td>WITHDRAWN</td>\n",
       "      <td>PROJECT MANAGEMENT LEAD</td>\n",
       "      <td>11-2011</td>\n",
       "      <td>ADVERTISING AND PROMOTIONS MANAGERS</td>\n",
       "      <td>E-3 Australian</td>\n",
       "      <td>HELLO ELEPHANT, LLC</td>\n",
       "      <td>NaN</td>\n",
       "      <td>NaN</td>\n",
       "      <td>541810.0</td>\n",
       "      <td>0</td>\n",
       "      <td>1.0</td>\n",
       "      <td>0.0</td>\n",
       "      <td>0.0</td>\n",
       "      <td>0.0</td>\n",
       "      <td>NaN</td>\n",
       "      <td>NaN</td>\n",
       "      <td>NaN</td>\n",
       "      <td>$1,40,000.00</td>\n",
       "      <td>Year</td>\n",
       "      <td>1.0</td>\n",
       "    </tr>\n",
       "    <tr>\n",
       "      <th>4</th>\n",
       "      <td>WITHDRAWN</td>\n",
       "      <td>CREATIVE DIRECTOR, UX</td>\n",
       "      <td>11-2011</td>\n",
       "      <td>ADVERTISING AND PROMOTIONS MANAGERS</td>\n",
       "      <td>E-3 Australian</td>\n",
       "      <td>HELLO ELEPHANT, LLC</td>\n",
       "      <td>NaN</td>\n",
       "      <td>NaN</td>\n",
       "      <td>541810.0</td>\n",
       "      <td>0</td>\n",
       "      <td>1.0</td>\n",
       "      <td>0.0</td>\n",
       "      <td>0.0</td>\n",
       "      <td>0.0</td>\n",
       "      <td>NaN</td>\n",
       "      <td>NaN</td>\n",
       "      <td>NaN</td>\n",
       "      <td>$1,80,000.00</td>\n",
       "      <td>Year</td>\n",
       "      <td>1.0</td>\n",
       "    </tr>\n",
       "    <tr>\n",
       "      <th>...</th>\n",
       "      <td>...</td>\n",
       "      <td>...</td>\n",
       "      <td>...</td>\n",
       "      <td>...</td>\n",
       "      <td>...</td>\n",
       "      <td>...</td>\n",
       "      <td>...</td>\n",
       "      <td>...</td>\n",
       "      <td>...</td>\n",
       "      <td>...</td>\n",
       "      <td>...</td>\n",
       "      <td>...</td>\n",
       "      <td>...</td>\n",
       "      <td>...</td>\n",
       "      <td>...</td>\n",
       "      <td>...</td>\n",
       "      <td>...</td>\n",
       "      <td>...</td>\n",
       "      <td>...</td>\n",
       "      <td>...</td>\n",
       "    </tr>\n",
       "    <tr>\n",
       "      <th>664612</th>\n",
       "      <td>DENIED</td>\n",
       "      <td>APPLICATIONS CONSULTANT 2</td>\n",
       "      <td>NaN</td>\n",
       "      <td>NaN</td>\n",
       "      <td>H-1B</td>\n",
       "      <td>CAPGEMINI AMERICA INC</td>\n",
       "      <td>Y</td>\n",
       "      <td>N</td>\n",
       "      <td>5416.0</td>\n",
       "      <td>0.0</td>\n",
       "      <td>0.0</td>\n",
       "      <td>0.0</td>\n",
       "      <td>0.0</td>\n",
       "      <td>0.0</td>\n",
       "      <td>Y</td>\n",
       "      <td>Y</td>\n",
       "      <td>N</td>\n",
       "      <td>80800</td>\n",
       "      <td>Year</td>\n",
       "      <td>1.0</td>\n",
       "    </tr>\n",
       "    <tr>\n",
       "      <th>664613</th>\n",
       "      <td>DENIED</td>\n",
       "      <td>BUSINESS SYSTEMS ANALYST 2</td>\n",
       "      <td>NaN</td>\n",
       "      <td>NaN</td>\n",
       "      <td>H-1B</td>\n",
       "      <td>CAPGEMINI AMERICA INC</td>\n",
       "      <td>Y</td>\n",
       "      <td>N</td>\n",
       "      <td>5416.0</td>\n",
       "      <td>0.0</td>\n",
       "      <td>0.0</td>\n",
       "      <td>0.0</td>\n",
       "      <td>0.0</td>\n",
       "      <td>0.0</td>\n",
       "      <td>Y</td>\n",
       "      <td>Y</td>\n",
       "      <td>N</td>\n",
       "      <td>74500</td>\n",
       "      <td>Year</td>\n",
       "      <td>1.0</td>\n",
       "    </tr>\n",
       "    <tr>\n",
       "      <th>664614</th>\n",
       "      <td>DENIED</td>\n",
       "      <td>APPLICATIONS CONSULTANT 2</td>\n",
       "      <td>NaN</td>\n",
       "      <td>NaN</td>\n",
       "      <td>H-1B</td>\n",
       "      <td>CAPGEMINI AMERICA INC</td>\n",
       "      <td>Y</td>\n",
       "      <td>N</td>\n",
       "      <td>5416.0</td>\n",
       "      <td>0.0</td>\n",
       "      <td>0.0</td>\n",
       "      <td>0.0</td>\n",
       "      <td>0.0</td>\n",
       "      <td>0.0</td>\n",
       "      <td>Y</td>\n",
       "      <td>Y</td>\n",
       "      <td>N</td>\n",
       "      <td>75900</td>\n",
       "      <td>Year</td>\n",
       "      <td>1.0</td>\n",
       "    </tr>\n",
       "    <tr>\n",
       "      <th>664615</th>\n",
       "      <td>DENIED</td>\n",
       "      <td>BUSINESS SYSTEMS ANALYST 2</td>\n",
       "      <td>NaN</td>\n",
       "      <td>NaN</td>\n",
       "      <td>H-1B</td>\n",
       "      <td>CAPGEMINI AMERICA INC</td>\n",
       "      <td>Y</td>\n",
       "      <td>NaN</td>\n",
       "      <td>5416.0</td>\n",
       "      <td>1.0</td>\n",
       "      <td>0.0</td>\n",
       "      <td>0.0</td>\n",
       "      <td>0.0</td>\n",
       "      <td>0.0</td>\n",
       "      <td>Y</td>\n",
       "      <td>Y</td>\n",
       "      <td>N</td>\n",
       "      <td>66700</td>\n",
       "      <td>Year</td>\n",
       "      <td>1.0</td>\n",
       "    </tr>\n",
       "    <tr>\n",
       "      <th>664616</th>\n",
       "      <td>CERTIFIED</td>\n",
       "      <td>NaN</td>\n",
       "      <td>NaN</td>\n",
       "      <td>NaN</td>\n",
       "      <td>NaN</td>\n",
       "      <td>NaN</td>\n",
       "      <td>NaN</td>\n",
       "      <td>NaN</td>\n",
       "      <td>NaN</td>\n",
       "      <td>NaN</td>\n",
       "      <td>NaN</td>\n",
       "      <td>NaN</td>\n",
       "      <td>NaN</td>\n",
       "      <td>NaN</td>\n",
       "      <td>NaN</td>\n",
       "      <td>NaN</td>\n",
       "      <td>NaN</td>\n",
       "      <td>NaN</td>\n",
       "      <td>NaN</td>\n",
       "      <td>NaN</td>\n",
       "    </tr>\n",
       "  </tbody>\n",
       "</table>\n",
       "<p>664617 rows × 20 columns</p>\n",
       "</div>"
      ],
      "text/plain": [
       "       CASE_STATUS                    JOB_TITLE SOC_CODE  \\\n",
       "0        WITHDRAWN  ASSOCIATE CREATIVE DIRECTOR  11-2011   \n",
       "1        WITHDRAWN  ACCOUNT SUPERVISOR (MOTHER)  11-2011   \n",
       "2        WITHDRAWN  EXECUTIVE CREATIVE DIRECTOR  11-2011   \n",
       "3        WITHDRAWN      PROJECT MANAGEMENT LEAD  11-2011   \n",
       "4        WITHDRAWN        CREATIVE DIRECTOR, UX  11-2011   \n",
       "...            ...                          ...      ...   \n",
       "664612      DENIED    APPLICATIONS CONSULTANT 2      NaN   \n",
       "664613      DENIED   BUSINESS SYSTEMS ANALYST 2      NaN   \n",
       "664614      DENIED    APPLICATIONS CONSULTANT 2      NaN   \n",
       "664615      DENIED   BUSINESS SYSTEMS ANALYST 2      NaN   \n",
       "664616   CERTIFIED                          NaN      NaN   \n",
       "\n",
       "                                  SOC_TITLE      VISA_CLASS  \\\n",
       "0       ADVERTISING AND PROMOTIONS MANAGERS            H-1B   \n",
       "1       ADVERTISING AND PROMOTIONS MANAGERS  E-3 Australian   \n",
       "2       ADVERTISING AND PROMOTIONS MANAGERS  E-3 Australian   \n",
       "3       ADVERTISING AND PROMOTIONS MANAGERS  E-3 Australian   \n",
       "4       ADVERTISING AND PROMOTIONS MANAGERS  E-3 Australian   \n",
       "...                                     ...             ...   \n",
       "664612                                  NaN            H-1B   \n",
       "664613                                  NaN            H-1B   \n",
       "664614                                  NaN            H-1B   \n",
       "664615                                  NaN            H-1B   \n",
       "664616                                  NaN             NaN   \n",
       "\n",
       "                 EMPLOYER_NAME SECONDARY_ENTITY_1 AGENT_REPRESENTING_EMPLOYER  \\\n",
       "0       R/GA MEDIA GROUP, INC.                NaN                         NaN   \n",
       "1        MOTHER INDUSTRIES LLC                NaN                         NaN   \n",
       "2       WE ARE UNLIMITED, INC.                NaN                         NaN   \n",
       "3          HELLO ELEPHANT, LLC                NaN                         NaN   \n",
       "4          HELLO ELEPHANT, LLC                NaN                         NaN   \n",
       "...                        ...                ...                         ...   \n",
       "664612   CAPGEMINI AMERICA INC                  Y                           N   \n",
       "664613   CAPGEMINI AMERICA INC                  Y                           N   \n",
       "664614   CAPGEMINI AMERICA INC                  Y                           N   \n",
       "664615   CAPGEMINI AMERICA INC                  Y                         NaN   \n",
       "664616                     NaN                NaN                         NaN   \n",
       "\n",
       "        NAICS_CODE CONTINUED_EMPLOYMENT  CHANGE_PREVIOUS_EMPLOYMENT  \\\n",
       "0         541810.0                    1                         0.0   \n",
       "1         541810.0                    1                         0.0   \n",
       "2         541810.0                    0                         1.0   \n",
       "3         541810.0                    0                         1.0   \n",
       "4         541810.0                    0                         1.0   \n",
       "...            ...                  ...                         ...   \n",
       "664612      5416.0                  0.0                         0.0   \n",
       "664613      5416.0                  0.0                         0.0   \n",
       "664614      5416.0                  0.0                         0.0   \n",
       "664615      5416.0                  1.0                         0.0   \n",
       "664616         NaN                  NaN                         NaN   \n",
       "\n",
       "        NEW_CONCURRENT_EMPLOYMENT  CHANGE_EMPLOYER  AMENDED_PETITION  \\\n",
       "0                             0.0              0.0               0.0   \n",
       "1                             0.0              0.0               0.0   \n",
       "2                             0.0              0.0               0.0   \n",
       "3                             0.0              0.0               0.0   \n",
       "4                             0.0              0.0               0.0   \n",
       "...                           ...              ...               ...   \n",
       "664612                        0.0              0.0               0.0   \n",
       "664613                        0.0              0.0               0.0   \n",
       "664614                        0.0              0.0               0.0   \n",
       "664615                        0.0              0.0               0.0   \n",
       "664616                        NaN              NaN               NaN   \n",
       "\n",
       "       H-1B_DEPENDENT SUPPORT_H1B WILLFUL_VIOLATOR WAGE_RATE_OF_PAY_FROM_1  \\\n",
       "0                   N         NaN                N            $1,79,000.00   \n",
       "1                 NaN         NaN              NaN            $1,10,000.00   \n",
       "2                 NaN         NaN              NaN            $2,75,000.00   \n",
       "3                 NaN         NaN              NaN            $1,40,000.00   \n",
       "4                 NaN         NaN              NaN            $1,80,000.00   \n",
       "...               ...         ...              ...                     ...   \n",
       "664612              Y           Y                N                   80800   \n",
       "664613              Y           Y                N                   74500   \n",
       "664614              Y           Y                N                   75900   \n",
       "664615              Y           Y                N                   66700   \n",
       "664616            NaN         NaN              NaN                     NaN   \n",
       "\n",
       "       WAGE_UNIT_OF_PAY_1  TOTAL_WORKER_POSITIONS  \n",
       "0                    Year                     1.0  \n",
       "1                    Year                     1.0  \n",
       "2                    Year                     1.0  \n",
       "3                    Year                     1.0  \n",
       "4                    Year                     1.0  \n",
       "...                   ...                     ...  \n",
       "664612               Year                     1.0  \n",
       "664613               Year                     1.0  \n",
       "664614               Year                     1.0  \n",
       "664615               Year                     1.0  \n",
       "664616                NaN                     NaN  \n",
       "\n",
       "[664617 rows x 20 columns]"
      ]
     },
     "execution_count": 13,
     "metadata": {},
     "output_type": "execute_result"
    }
   ],
   "source": [
    "#creating a new dataframe with 20 important features\n",
    "new=pd.DataFrame(dataset, columns=['CASE_STATUS','JOB_TITLE','SOC_CODE','SOC_TITLE','VISA_CLASS','EMPLOYER_NAME','SECONDARY_ENTITY_1','AGENT_REPRESENTING_EMPLOYER','NAICS_CODE','CONTINUED_EMPLOYMENT','CHANGE_PREVIOUS_EMPLOYMENT','NEW_CONCURRENT_EMPLOYMENT','CHANGE_EMPLOYER','AMENDED_PETITION','H-1B_DEPENDENT','SUPPORT_H1B','WILLFUL_VIOLATOR','WAGE_RATE_OF_PAY_FROM_1','WAGE_UNIT_OF_PAY_1','TOTAL_WORKER_POSITIONS'])\n",
    "new"
   ]
  },
  {
   "cell_type": "code",
   "execution_count": 14,
   "id": "7d309c3d",
   "metadata": {},
   "outputs": [
    {
     "data": {
      "text/plain": [
       "(664617, 20)"
      ]
     },
     "execution_count": 14,
     "metadata": {},
     "output_type": "execute_result"
    }
   ],
   "source": [
    "new.shape"
   ]
  },
  {
   "cell_type": "code",
   "execution_count": 15,
   "id": "621f3b96",
   "metadata": {},
   "outputs": [
    {
     "data": {
      "text/plain": [
       "(209498, 20)"
      ]
     },
     "execution_count": 15,
     "metadata": {},
     "output_type": "execute_result"
    }
   ],
   "source": [
    "new=new.dropna(axis=0)\n",
    "new.shape"
   ]
  },
  {
   "cell_type": "code",
   "execution_count": 16,
   "id": "94072ff6",
   "metadata": {},
   "outputs": [],
   "source": [
    "new.to_csv(\"H-1B_Disclosure_Data_FY2019_new.csv\")"
   ]
  },
  {
   "cell_type": "code",
   "execution_count": 17,
   "id": "335b198b",
   "metadata": {},
   "outputs": [
    {
     "name": "stdout",
     "output_type": "stream",
     "text": [
      "<class 'pandas.core.frame.DataFrame'>\n",
      "Int64Index: 209498 entries, 79 to 664578\n",
      "Data columns (total 20 columns):\n",
      " #   Column                       Non-Null Count   Dtype  \n",
      "---  ------                       --------------   -----  \n",
      " 0   CASE_STATUS                  209498 non-null  object \n",
      " 1   JOB_TITLE                    209498 non-null  object \n",
      " 2   SOC_CODE                     209498 non-null  object \n",
      " 3   SOC_TITLE                    209498 non-null  object \n",
      " 4   VISA_CLASS                   209498 non-null  object \n",
      " 5   EMPLOYER_NAME                209498 non-null  object \n",
      " 6   SECONDARY_ENTITY_1           209498 non-null  object \n",
      " 7   AGENT_REPRESENTING_EMPLOYER  209498 non-null  object \n",
      " 8   NAICS_CODE                   209498 non-null  float64\n",
      " 9   CONTINUED_EMPLOYMENT         209498 non-null  object \n",
      " 10  CHANGE_PREVIOUS_EMPLOYMENT   209498 non-null  float64\n",
      " 11  NEW_CONCURRENT_EMPLOYMENT    209498 non-null  float64\n",
      " 12  CHANGE_EMPLOYER              209498 non-null  float64\n",
      " 13  AMENDED_PETITION             209498 non-null  float64\n",
      " 14  H-1B_DEPENDENT               209498 non-null  object \n",
      " 15  SUPPORT_H1B                  209498 non-null  object \n",
      " 16  WILLFUL_VIOLATOR             209498 non-null  object \n",
      " 17  WAGE_RATE_OF_PAY_FROM_1      209498 non-null  object \n",
      " 18  WAGE_UNIT_OF_PAY_1           209498 non-null  object \n",
      " 19  TOTAL_WORKER_POSITIONS       209498 non-null  float64\n",
      "dtypes: float64(6), object(14)\n",
      "memory usage: 33.6+ MB\n"
     ]
    }
   ],
   "source": [
    "new.info()"
   ]
  },
  {
   "cell_type": "code",
   "execution_count": 18,
   "id": "23f82bf3",
   "metadata": {},
   "outputs": [
    {
     "data": {
      "text/plain": [
       "CASE_STATUS                    0\n",
       "JOB_TITLE                      0\n",
       "SOC_CODE                       0\n",
       "SOC_TITLE                      0\n",
       "VISA_CLASS                     0\n",
       "EMPLOYER_NAME                  0\n",
       "SECONDARY_ENTITY_1             0\n",
       "AGENT_REPRESENTING_EMPLOYER    0\n",
       "NAICS_CODE                     0\n",
       "CONTINUED_EMPLOYMENT           0\n",
       "CHANGE_PREVIOUS_EMPLOYMENT     0\n",
       "NEW_CONCURRENT_EMPLOYMENT      0\n",
       "CHANGE_EMPLOYER                0\n",
       "AMENDED_PETITION               0\n",
       "H-1B_DEPENDENT                 0\n",
       "SUPPORT_H1B                    0\n",
       "WILLFUL_VIOLATOR               0\n",
       "WAGE_RATE_OF_PAY_FROM_1        0\n",
       "WAGE_UNIT_OF_PAY_1             0\n",
       "TOTAL_WORKER_POSITIONS         0\n",
       "dtype: int64"
      ]
     },
     "execution_count": 18,
     "metadata": {},
     "output_type": "execute_result"
    }
   ],
   "source": [
    "new.isnull().sum()"
   ]
  },
  {
   "cell_type": "code",
   "execution_count": 19,
   "id": "07bd461d",
   "metadata": {},
   "outputs": [
    {
     "data": {
      "text/html": [
       "<div>\n",
       "<style scoped>\n",
       "    .dataframe tbody tr th:only-of-type {\n",
       "        vertical-align: middle;\n",
       "    }\n",
       "\n",
       "    .dataframe tbody tr th {\n",
       "        vertical-align: top;\n",
       "    }\n",
       "\n",
       "    .dataframe thead th {\n",
       "        text-align: right;\n",
       "    }\n",
       "</style>\n",
       "<table border=\"1\" class=\"dataframe\">\n",
       "  <thead>\n",
       "    <tr style=\"text-align: right;\">\n",
       "      <th></th>\n",
       "      <th>NAICS_CODE</th>\n",
       "      <th>CHANGE_PREVIOUS_EMPLOYMENT</th>\n",
       "      <th>NEW_CONCURRENT_EMPLOYMENT</th>\n",
       "      <th>CHANGE_EMPLOYER</th>\n",
       "      <th>AMENDED_PETITION</th>\n",
       "      <th>TOTAL_WORKER_POSITIONS</th>\n",
       "    </tr>\n",
       "  </thead>\n",
       "  <tbody>\n",
       "    <tr>\n",
       "      <th>count</th>\n",
       "      <td>209498.000000</td>\n",
       "      <td>209498.000000</td>\n",
       "      <td>209498.000000</td>\n",
       "      <td>209498.000000</td>\n",
       "      <td>209498.000000</td>\n",
       "      <td>209498.000000</td>\n",
       "    </tr>\n",
       "    <tr>\n",
       "      <th>mean</th>\n",
       "      <td>499716.036549</td>\n",
       "      <td>0.139199</td>\n",
       "      <td>0.006797</td>\n",
       "      <td>0.164121</td>\n",
       "      <td>0.228341</td>\n",
       "      <td>1.380113</td>\n",
       "    </tr>\n",
       "    <tr>\n",
       "      <th>std</th>\n",
       "      <td>139583.663135</td>\n",
       "      <td>1.314363</td>\n",
       "      <td>0.082512</td>\n",
       "      <td>0.827707</td>\n",
       "      <td>0.837031</td>\n",
       "      <td>3.642801</td>\n",
       "    </tr>\n",
       "    <tr>\n",
       "      <th>min</th>\n",
       "      <td>1111.000000</td>\n",
       "      <td>0.000000</td>\n",
       "      <td>0.000000</td>\n",
       "      <td>0.000000</td>\n",
       "      <td>0.000000</td>\n",
       "      <td>1.000000</td>\n",
       "    </tr>\n",
       "    <tr>\n",
       "      <th>25%</th>\n",
       "      <td>541511.000000</td>\n",
       "      <td>0.000000</td>\n",
       "      <td>0.000000</td>\n",
       "      <td>0.000000</td>\n",
       "      <td>0.000000</td>\n",
       "      <td>1.000000</td>\n",
       "    </tr>\n",
       "    <tr>\n",
       "      <th>50%</th>\n",
       "      <td>541511.000000</td>\n",
       "      <td>0.000000</td>\n",
       "      <td>0.000000</td>\n",
       "      <td>0.000000</td>\n",
       "      <td>0.000000</td>\n",
       "      <td>1.000000</td>\n",
       "    </tr>\n",
       "    <tr>\n",
       "      <th>75%</th>\n",
       "      <td>541511.000000</td>\n",
       "      <td>0.000000</td>\n",
       "      <td>0.000000</td>\n",
       "      <td>0.000000</td>\n",
       "      <td>0.000000</td>\n",
       "      <td>1.000000</td>\n",
       "    </tr>\n",
       "    <tr>\n",
       "      <th>max</th>\n",
       "      <td>925120.000000</td>\n",
       "      <td>338.000000</td>\n",
       "      <td>3.000000</td>\n",
       "      <td>30.000000</td>\n",
       "      <td>30.000000</td>\n",
       "      <td>500.000000</td>\n",
       "    </tr>\n",
       "  </tbody>\n",
       "</table>\n",
       "</div>"
      ],
      "text/plain": [
       "          NAICS_CODE  CHANGE_PREVIOUS_EMPLOYMENT  NEW_CONCURRENT_EMPLOYMENT  \\\n",
       "count  209498.000000               209498.000000              209498.000000   \n",
       "mean   499716.036549                    0.139199                   0.006797   \n",
       "std    139583.663135                    1.314363                   0.082512   \n",
       "min      1111.000000                    0.000000                   0.000000   \n",
       "25%    541511.000000                    0.000000                   0.000000   \n",
       "50%    541511.000000                    0.000000                   0.000000   \n",
       "75%    541511.000000                    0.000000                   0.000000   \n",
       "max    925120.000000                  338.000000                   3.000000   \n",
       "\n",
       "       CHANGE_EMPLOYER  AMENDED_PETITION  TOTAL_WORKER_POSITIONS  \n",
       "count    209498.000000     209498.000000           209498.000000  \n",
       "mean          0.164121          0.228341                1.380113  \n",
       "std           0.827707          0.837031                3.642801  \n",
       "min           0.000000          0.000000                1.000000  \n",
       "25%           0.000000          0.000000                1.000000  \n",
       "50%           0.000000          0.000000                1.000000  \n",
       "75%           0.000000          0.000000                1.000000  \n",
       "max          30.000000         30.000000              500.000000  "
      ]
     },
     "execution_count": 19,
     "metadata": {},
     "output_type": "execute_result"
    }
   ],
   "source": [
    "new.describe()"
   ]
  },
  {
   "cell_type": "markdown",
   "id": "f6cc5e83",
   "metadata": {},
   "source": [
    "### Performing analysis on particular columns ###"
   ]
  },
  {
   "cell_type": "code",
   "execution_count": 20,
   "id": "543593cc",
   "metadata": {},
   "outputs": [
    {
     "data": {
      "text/plain": [
       "CERTIFIED              197881\n",
       "CERTIFIED-WITHDRAWN      5720\n",
       "WITHDRAWN                5195\n",
       "DENIED                    702\n",
       "Name: CASE_STATUS, dtype: int64"
      ]
     },
     "execution_count": 20,
     "metadata": {},
     "output_type": "execute_result"
    }
   ],
   "source": [
    "new['CASE_STATUS'].value_counts()"
   ]
  },
  {
   "cell_type": "code",
   "execution_count": 21,
   "id": "de699fa9",
   "metadata": {},
   "outputs": [
    {
     "data": {
      "image/png": "[encoded data removed]",
      "text/plain": [
       "<Figure size 504x360 with 1 Axes>"
      ]
     },
     "metadata": {
      "needs_background": "light"
     },
     "output_type": "display_data"
    }
   ],
   "source": [
    "plt.figure(figsize=(7,5))\n",
    "sns.countplot(x ='CASE_STATUS', data = new)\n",
    "plt.show()"
   ]
  },
  {
   "cell_type": "markdown",
   "id": "03b3be8c",
   "metadata": {},
   "source": [
    "### 93% of applications got certified ###"
   ]
  },
  {
   "cell_type": "code",
   "execution_count": 22,
   "id": "a97aee1c",
   "metadata": {},
   "outputs": [
    {
     "data": {
      "text/plain": [
       "SOFTWARE DEVELOPER                     19929\n",
       "SOFTWARE ENGINEER                      13330\n",
       "SENIOR SYSTEMS ANALYST JC60            11482\n",
       "TECHNOLOGY LEAD - US - PRACTITIONER     7245\n",
       "MANAGER JC50                            7105\n",
       "Name: JOB_TITLE, dtype: int64"
      ]
     },
     "execution_count": 22,
     "metadata": {},
     "output_type": "execute_result"
    }
   ],
   "source": [
    "#displaying top 5 job title\n",
    "jobTitle=new['JOB_TITLE'].value_counts().head(5)\n",
    "jobTitle"
   ]
  },
  {
   "cell_type": "code",
   "execution_count": 23,
   "id": "e36e339c",
   "metadata": {},
   "outputs": [
    {
     "data": {
      "image/png": "[encoded data removed]",
      "text/plain": [
       "<Figure size 720x216 with 1 Axes>"
      ]
     },
     "metadata": {
      "needs_background": "light"
     },
     "output_type": "display_data"
    }
   ],
   "source": [
    "position=('SOFTWARE DEVELOPER','SOFTWARE ENGINEER','SENIOR SYSTEMS ANALYST JC60','TECHNOLOGY LEAD - US - PRACTITIONER','MANAGER JC50')\n",
    "\n",
    "plt.figure(figsize=(10,3))\n",
    "plt.bar(position, jobTitle)\n",
    "plt.xticks(rotation=90)\n",
    "plt.show()"
   ]
  },
  {
   "cell_type": "markdown",
   "id": "e5012c14",
   "metadata": {},
   "source": [
    "### Software developer is most desired position "
   ]
  },
  {
   "cell_type": "code",
   "execution_count": 24,
   "id": "16e86161",
   "metadata": {},
   "outputs": [
    {
     "data": {
      "text/plain": [
       "SOFTWARE DEVELOPERS, APPLICATIONS    81826\n",
       "COMPUTER SYSTEMS ANALYST             36744\n",
       "COMPUTER OCCUPATIONS, ALL OTHER      26207\n",
       "COMPUTER SYSTEMS ANALYSTS            12356\n",
       "COMPUTER PROGRAMMERS                 10187\n",
       "Name: SOC_TITLE, dtype: int64"
      ]
     },
     "execution_count": 24,
     "metadata": {},
     "output_type": "execute_result"
    }
   ],
   "source": [
    "socTitle=new['SOC_TITLE'].value_counts().head(5) #top 5 soc title\n",
    "socTitle"
   ]
  },
  {
   "cell_type": "code",
   "execution_count": 25,
   "id": "cd25cb59",
   "metadata": {},
   "outputs": [
    {
     "data": {
      "image/png": "[encoded data removed]",
      "text/plain": [
       "<Figure size 720x216 with 1 Axes>"
      ]
     },
     "metadata": {
      "needs_background": "light"
     },
     "output_type": "display_data"
    }
   ],
   "source": [
    "title=('SOFTWARE DEVELOPERS, APPLICATIONS','COMPUTER SYSTEMS ANALYST','COMPUTER OCCUPATIONS, ALL OTHER','COMPUTER SYSTEMS ANALYSTS','COMPUTER PROGRAMMERS')\n",
    "plt.figure(figsize=(10,3))\n",
    "#plt.bar(title, socTitle)\n",
    "plt.barh(title,socTitle)\n",
    "plt.xticks(rotation=90)\n",
    "plt.show()"
   ]
  },
  {
   "cell_type": "code",
   "execution_count": 26,
   "id": "6801c07a",
   "metadata": {},
   "outputs": [
    {
     "data": {
      "text/plain": [
       "H-1B               209460\n",
       "H-1B1 Chile            21\n",
       "E-3 Australian         14\n",
       "H-1B1 Singapore         3\n",
       "Name: VISA_CLASS, dtype: int64"
      ]
     },
     "execution_count": 26,
     "metadata": {},
     "output_type": "execute_result"
    }
   ],
   "source": [
    "#since we need to predict only H-1B, therefore we'll delete rows with other visa applications\n",
    "new['VISA_CLASS'].value_counts()"
   ]
  },
  {
   "cell_type": "code",
   "execution_count": 27,
   "id": "e426b994",
   "metadata": {},
   "outputs": [],
   "source": [
    "new=new[(new.VISA_CLASS == 'H-1B')] "
   ]
  },
  {
   "cell_type": "code",
   "execution_count": 28,
   "id": "ff6c77d7",
   "metadata": {},
   "outputs": [
    {
     "data": {
      "text/plain": [
       "H-1B    209460\n",
       "Name: VISA_CLASS, dtype: int64"
      ]
     },
     "execution_count": 28,
     "metadata": {},
     "output_type": "execute_result"
    }
   ],
   "source": [
    "new['VISA_CLASS'].value_counts()"
   ]
  },
  {
   "cell_type": "code",
   "execution_count": 29,
   "id": "687e6709",
   "metadata": {},
   "outputs": [
    {
     "data": {
      "text/plain": [
       "COGNIZANT TECHNOLOGY SOLUTIONS US CORP    25011\n",
       "INFOSYS LIMITED                           20305\n",
       "TATA CONSULTANCY SERVICES LIMITED         10543\n",
       "CAPGEMINI AMERICA INC                      7349\n",
       "HCL AMERICA, INC.                          4412\n",
       "WIPRO LIMITED                              3955\n",
       "LARSEN & TOUBRO INFOTECH LIMITED           3338\n",
       "TECH MAHINDRA (AMERICAS),INC.              2708\n",
       "FACEBOOK, INC.                             2044\n",
       "L&T TECHNOLOGY SERVICES LIMITED            1833\n",
       "Name: EMPLOYER_NAME, dtype: int64"
      ]
     },
     "execution_count": 29,
     "metadata": {},
     "output_type": "execute_result"
    }
   ],
   "source": [
    "new['EMPLOYER_NAME'].value_counts().head(10)\n",
    "#top 10 employer names"
   ]
  },
  {
   "cell_type": "code",
   "execution_count": 30,
   "id": "9eb1a50e",
   "metadata": {},
   "outputs": [
    {
     "data": {
      "text/plain": [
       "<AxesSubplot:xlabel='EMPLOYER_NAME'>"
      ]
     },
     "execution_count": 30,
     "metadata": {},
     "output_type": "execute_result"
    },
    {
     "data": {
      "image/png": "[encoded data removed]",
      "text/plain": [
       "<Figure size 432x288 with 1 Axes>"
      ]
     },
     "metadata": {
      "needs_background": "light"
     },
     "output_type": "display_data"
    }
   ],
   "source": [
    "EmpName=new['EMPLOYER_NAME'].value_counts().head(10)\n",
    "sns.barplot(x= EmpName, y = EmpName.index)"
   ]
  },
  {
   "cell_type": "code",
   "execution_count": 31,
   "id": "a406be3f",
   "metadata": {},
   "outputs": [
    {
     "data": {
      "text/plain": [
       "0     155796\n",
       "1      50220\n",
       "0       1722\n",
       "1       1009\n",
       "5        315\n",
       "2        136\n",
       "3        130\n",
       "10        90\n",
       "4         13\n",
       "6         12\n",
       "5          8\n",
       "B          3\n",
       "20         2\n",
       "25         2\n",
       "15         1\n",
       "2          1\n",
       "Name: CONTINUED_EMPLOYMENT, dtype: int64"
      ]
     },
     "execution_count": 31,
     "metadata": {},
     "output_type": "execute_result"
    }
   ],
   "source": [
    "new['CONTINUED_EMPLOYMENT'].value_counts()"
   ]
  },
  {
   "cell_type": "code",
   "execution_count": 32,
   "id": "9def1544",
   "metadata": {},
   "outputs": [
    {
     "data": {
      "text/plain": [
       "N    209205\n",
       "Y       255\n",
       "Name: WILLFUL_VIOLATOR, dtype: int64"
      ]
     },
     "execution_count": 32,
     "metadata": {},
     "output_type": "execute_result"
    }
   ],
   "source": [
    "new['WILLFUL_VIOLATOR'].value_counts()"
   ]
  },
  {
   "cell_type": "code",
   "execution_count": 33,
   "id": "0494e66e",
   "metadata": {},
   "outputs": [
    {
     "data": {
      "image/png": "[encoded data removed]",
      "text/plain": [
       "<Figure size 432x288 with 1 Axes>"
      ]
     },
     "metadata": {},
     "output_type": "display_data"
    }
   ],
   "source": [
    "y=new['WILLFUL_VIOLATOR'].value_counts()\n",
    "label = [\"NO\", \"YES\"]\n",
    "plt.pie(y, radius=1.5, center=(1, 1), frame=False, labels = label)\n",
    "plt.legend()\n",
    "plt.show()"
   ]
  },
  {
   "cell_type": "code",
   "execution_count": 34,
   "id": "eff1cd20",
   "metadata": {},
   "outputs": [
    {
     "data": {
      "text/plain": [
       "Y    168793\n",
       "N     40667\n",
       "Name: SECONDARY_ENTITY_1, dtype: int64"
      ]
     },
     "execution_count": 34,
     "metadata": {},
     "output_type": "execute_result"
    }
   ],
   "source": [
    "new['SECONDARY_ENTITY_1'].value_counts()"
   ]
  },
  {
   "cell_type": "code",
   "execution_count": 35,
   "id": "ce51d852",
   "metadata": {},
   "outputs": [
    {
     "data": {
      "text/plain": [
       "1.0      199966\n",
       "2.0        1900\n",
       "5.0        1872\n",
       "6.0        1463\n",
       "3.0        1275\n",
       "4.0         790\n",
       "50.0        565\n",
       "10.0        542\n",
       "25.0        268\n",
       "20.0        249\n",
       "15.0        175\n",
       "30.0         80\n",
       "8.0          76\n",
       "7.0          64\n",
       "100.0        59\n",
       "9.0          28\n",
       "12.0         17\n",
       "11.0         14\n",
       "16.0         13\n",
       "13.0          9\n",
       "40.0          8\n",
       "14.0          5\n",
       "18.0          4\n",
       "35.0          3\n",
       "45.0          3\n",
       "19.0          3\n",
       "17.0          3\n",
       "90.0          2\n",
       "500.0         1\n",
       "23.0          1\n",
       "99.0          1\n",
       "300.0         1\n",
       "Name: TOTAL_WORKER_POSITIONS, dtype: int64"
      ]
     },
     "execution_count": 35,
     "metadata": {},
     "output_type": "execute_result"
    }
   ],
   "source": [
    "new['TOTAL_WORKER_POSITIONS'].value_counts()"
   ]
  },
  {
   "cell_type": "code",
   "execution_count": 36,
   "id": "577ce8f7",
   "metadata": {},
   "outputs": [
    {
     "data": {
      "text/plain": [
       "90000.0      3100\n",
       "100000.0     3037\n",
       "85000.0      2825\n",
       "110000.0     2463\n",
       "95000.0      2301\n",
       "             ... \n",
       "123305.04       1\n",
       "41.45           1\n",
       "79575.0         1\n",
       "79578.0         1\n",
       "62800           1\n",
       "Name: WAGE_RATE_OF_PAY_FROM_1, Length: 17725, dtype: int64"
      ]
     },
     "execution_count": 36,
     "metadata": {},
     "output_type": "execute_result"
    }
   ],
   "source": [
    "new['WAGE_RATE_OF_PAY_FROM_1'].value_counts()"
   ]
  },
  {
   "cell_type": "code",
   "execution_count": null,
   "id": "fcc1adfa",
   "metadata": {},
   "outputs": [],
   "source": []
  }
 ],
 "metadata": {
  "kernelspec": {
   "display_name": "Python 3",
   "language": "python",
   "name": "python3"
  },
  "language_info": {
   "codemirror_mode": {
    "name": "ipython",
    "version": 3
   },
   "file_extension": ".py",
   "mimetype": "text/x-python",
   "name": "python",
   "nbconvert_exporter": "python",
   "pygments_lexer": "ipython3",
   "version": "3.8.8"
  }
 },
 "nbformat": 4,
 "nbformat_minor": 5
}
